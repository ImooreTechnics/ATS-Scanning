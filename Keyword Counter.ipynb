{
 "cells": [
  {
   "cell_type": "code",
   "execution_count": 7,
   "metadata": {},
   "outputs": [],
   "source": [
    "import pandas as pd\n",
    "import numpy as np\n",
    "import matplotlib.pyplot as plt\n",
    "import seaborn as sns\n"
   ]
  },
  {
   "cell_type": "code",
   "execution_count": 8,
   "metadata": {},
   "outputs": [
    {
     "data": {
      "text/html": [
       "<div>\n",
       "<style scoped>\n",
       "    .dataframe tbody tr th:only-of-type {\n",
       "        vertical-align: middle;\n",
       "    }\n",
       "\n",
       "    .dataframe tbody tr th {\n",
       "        vertical-align: top;\n",
       "    }\n",
       "\n",
       "    .dataframe thead th {\n",
       "        text-align: right;\n",
       "    }\n",
       "</style>\n",
       "<table border=\"1\" class=\"dataframe\">\n",
       "  <thead>\n",
       "    <tr style=\"text-align: right;\">\n",
       "      <th></th>\n",
       "      <th>UD's Action Verbs</th>\n",
       "      <th>Soft Skills</th>\n",
       "    </tr>\n",
       "  </thead>\n",
       "  <tbody>\n",
       "    <tr>\n",
       "      <th>0</th>\n",
       "      <td>Achieved</td>\n",
       "      <td>Communication</td>\n",
       "    </tr>\n",
       "    <tr>\n",
       "      <th>1</th>\n",
       "      <td>Adapted</td>\n",
       "      <td>Leadership</td>\n",
       "    </tr>\n",
       "    <tr>\n",
       "      <th>2</th>\n",
       "      <td>Addressed</td>\n",
       "      <td>Teamwork</td>\n",
       "    </tr>\n",
       "    <tr>\n",
       "      <th>3</th>\n",
       "      <td>Administered</td>\n",
       "      <td>Adaptability</td>\n",
       "    </tr>\n",
       "    <tr>\n",
       "      <th>4</th>\n",
       "      <td>Advised</td>\n",
       "      <td>Problem-solving</td>\n",
       "    </tr>\n",
       "  </tbody>\n",
       "</table>\n",
       "</div>"
      ],
      "text/plain": [
       "  UD's Action Verbs      Soft Skills\n",
       "0          Achieved    Communication\n",
       "1           Adapted       Leadership\n",
       "2         Addressed         Teamwork\n",
       "3      Administered     Adaptability\n",
       "4           Advised  Problem-solving"
      ]
     },
     "execution_count": 8,
     "metadata": {},
     "output_type": "execute_result"
    }
   ],
   "source": [
    "#Loading the keywords file\n",
    "keywords = pd.read_csv(\"Keywords.csv\")\n",
    "keywords.head()"
   ]
  },
  {
   "cell_type": "code",
   "execution_count": 9,
   "metadata": {},
   "outputs": [],
   "source": [
    "def read_text_from_file(file_path):\n",
    "    with open(file_path, 'r') as file:\n",
    "        text = file.read()\n",
    "    return text\n",
    "\n",
    "def preprocess_text(text):\n",
    "    # Tokenize the text\n",
    "    tokens = text.split()\n",
    "    \n",
    "    # Convert tokens to lowercase\n",
    "    tokens = [token.lower() for token in tokens]\n",
    "    \n",
    "    # Remove stop words (we can create our own list of common stop words)\n",
    "    stop_words = set([\"the\", \"a\", \"an\", \"and\", \"or\", \"but\", \"if\", \"else\", \"is\", \"are\", \"was\", \"were\"])\n",
    "    tokens = [token for token in tokens if token not in stop_words]\n",
    "    \n",
    "    # Lemmatization (for simplicity, we can skip lemmatization using pandas)\n",
    "    \n",
    "    return tokens\n",
    "\n",
    "def scan_for_keywords(text, keywords):\n",
    "    keyword_matches = [token for token in text if token in keywords]\n",
    "    return keyword_matches\n",
    "\n",
    "def scan_for_action_verbs(text, action_verbs):\n",
    "    action_verb_matches = [token for token in text if token in action_verbs]\n",
    "    return action_verb_matches"
   ]
  },
  {
   "cell_type": "code",
   "execution_count": 11,
   "metadata": {},
   "outputs": [
    {
     "name": "stdout",
     "output_type": "stream",
     "text": [
      "This workds\n"
     ]
    }
   ],
   "source": [
    "# TESTS\n",
    "\"\"\"\n",
    "Examples: \n",
    "assert type(X)==pd.DataFrame, \"X is not a data frame\"\n",
    "assert X.shape==(99999, 6), \"X has the wrong number of rows or columns\"\n",
    "assert y.nunique()==3, \"y should have 3 unique values\"\n",
    "assert np.isclose( X_train[\"u\"].sum(), 1766124 ), \"X training set is not correct\"\n",
    "assert (y_test==\"GALAXY\").sum() == 11999, \"y testing set is not correct\"\n",
    "\"\"\"\n",
    "\n",
    "print(\"This workds\")\n"
   ]
  }
 ],
 "metadata": {
  "kernelspec": {
   "display_name": "base",
   "language": "python",
   "name": "python3"
  },
  "language_info": {
   "codemirror_mode": {
    "name": "ipython",
    "version": 3
   },
   "file_extension": ".py",
   "mimetype": "text/x-python",
   "name": "python",
   "nbconvert_exporter": "python",
   "pygments_lexer": "ipython3",
   "version": "3.11.5"
  }
 },
 "nbformat": 4,
 "nbformat_minor": 2
}
